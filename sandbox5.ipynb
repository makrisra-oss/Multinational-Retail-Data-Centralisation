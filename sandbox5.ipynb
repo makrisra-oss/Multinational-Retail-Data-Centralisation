{
 "cells": [
  {
   "cell_type": "code",
   "execution_count": 1,
   "metadata": {},
   "outputs": [],
   "source": [
    "import pandas as pd\n",
    "import numpy as np"
   ]
  },
  {
   "cell_type": "code",
   "execution_count": 2,
   "metadata": {},
   "outputs": [],
   "source": [
    "from data_extraction import DataExtractor\n",
    "from data_cleaning import DataCleaning\n",
    "from database_utils import DatabaseConnector"
   ]
  },
  {
   "cell_type": "code",
   "execution_count": 3,
   "metadata": {},
   "outputs": [],
   "source": [
    "extractor = DataExtractor()\n",
    "connector = DatabaseConnector()\n",
    "cleaning = DataCleaning()"
   ]
  },
  {
   "cell_type": "code",
   "execution_count": 4,
   "metadata": {},
   "outputs": [],
   "source": [
    "orders_csv = extractor.read_rds_table(db_connector=connector, table_name='orders_table')\n",
    "orders_csv.to_csv('orders_table.csv')"
   ]
  },
  {
   "cell_type": "code",
   "execution_count": 6,
   "metadata": {},
   "outputs": [
    {
     "name": "stdout",
     "output_type": "stream",
     "text": [
      "Raw orders df:  Index(['Unnamed: 0', 'level_0', 'index', 'date_uuid', 'first_name',\n",
      "       'last_name', 'user_uuid', 'card_number', 'store_code', 'product_code',\n",
      "       '1', 'product_quantity'],\n",
      "      dtype='object')\n",
      "        Unnamed: 0  level_0   index                             date_uuid  \\\n",
      "0                0        0       0  9476f17e-5d6a-4117-874d-9cdb38ca1fa6   \n",
      "1                1        1       1  0423a395-a04d-4e4a-bd0f-d237cbd5a295   \n",
      "2                2        2       2  65187294-bb16-4519-adc0-787bbe423970   \n",
      "3                3        3       3  579e21f7-13cb-436b-83ad-33687a4eb337   \n",
      "4                4        4       4  00ab86c3-2039-4674-b9c1-adbcbbf525bd   \n",
      "...            ...      ...     ...                                   ...   \n",
      "120118      120118   110549  110548  f0e8fff6-9998-4661-954b-0e258e09d33c   \n",
      "120119      120119    82164   82164  1c80940a-d186-4ba9-9daa-8abd1aceae32   \n",
      "120120      120120    97599   97599  58598aca-049c-418e-8e39-46327634a7f1   \n",
      "120121      120121   106591  106591  3a76f661-0707-4fbc-9862-f21d3249f581   \n",
      "120122      120122   118806  118804  98fdc8b3-f619-4471-86b4-f44c26880166   \n",
      "\n",
      "       first_name last_name                             user_uuid  \\\n",
      "0             NaN       NaN  93caf182-e4e9-4c6e-bebb-60a1a9dcf9b8   \n",
      "1             NaN       NaN  8fe96c3a-d62d-4eb5-b313-cf12d9126a49   \n",
      "2             NaN       NaN  fc461df4-b919-48b2-909e-55c95a03fe6b   \n",
      "3             NaN       NaN  6104719f-ef14-4b09-bf04-fb0c4620acb0   \n",
      "4             NaN       NaN  9523a6d3-b2dd-4670-a51a-36aebc89f579   \n",
      "...           ...       ...                                   ...   \n",
      "120118        NaN       NaN  95c74b0a-d495-4359-b1c0-e2da511e8403   \n",
      "120119        NaN       NaN  5d6fa6fe-e583-4baf-8bbb-d1dd6e2b551f   \n",
      "120120     Sharon    Miller  48b7f1fc-db13-4611-ad8e-3dac0b759488   \n",
      "120121        NaN       NaN  51c0b538-7ded-4697-8e84-9f7aa13f9112   \n",
      "120122        NaN       NaN  e74907ca-1a4a-476c-a3ca-6b898b0964c2   \n",
      "\n",
      "             card_number    store_code product_code   1  product_quantity  \n",
      "0         30060773296197   BL-8387506C  R7-3126933h NaN                 3  \n",
      "1        349624180933183  WEB-1388012W  C2-7287916l NaN                 2  \n",
      "2       3529023891650490   CH-01D85C8D  S7-1175877v NaN                 2  \n",
      "3        213142929492281   CL-C183BE4B  D8-8421505n NaN                 2  \n",
      "4           502067329974   SO-B5B9CB3B  B6-2596063a NaN                 2  \n",
      "...                  ...           ...          ...  ..               ...  \n",
      "120118      575421945446   KA-FA7ED3B8  C9-6827622o NaN                 4  \n",
      "120119  4971858637664481   WA-A41DA979  I0-1146408B NaN                 1  \n",
      "120120  4971858637664481  WEB-1388012W  A4-5443400b NaN                 4  \n",
      "120121  4971858637664481   SO-6D328417  E9-2782979e NaN                 4  \n",
      "120122  4971858637664481   SO-6D328417  m0-0281207X NaN                 3  \n",
      "\n",
      "[120123 rows x 12 columns]\n",
      "Index(['Unnamed: 0', 'index', 'date_uuid', 'user_uuid', 'card_number',\n",
      "       'store_code', 'product_code', 'product_quantity'],\n",
      "      dtype='object')\n"
     ]
    }
   ],
   "source": [
    "raw_orders_df = raw_orders_df = pd.read_csv('orders_table.csv')\n",
    "print(f\"Raw orders df: \", raw_orders_df.columns)\n",
    "cleaned_orders_csv = cleaning.clean_orders_data(raw_orders_df)\n",
    "print(cleaned_orders_csv.columns)\n",
    "cleaned_orders_csv.to_csv('cleaned_orders_data.csv')"
   ]
  }
 ],
 "metadata": {
  "kernelspec": {
   "display_name": "mrdc",
   "language": "python",
   "name": "python3"
  },
  "language_info": {
   "codemirror_mode": {
    "name": "ipython",
    "version": 3
   },
   "file_extension": ".py",
   "mimetype": "text/x-python",
   "name": "python",
   "nbconvert_exporter": "python",
   "pygments_lexer": "ipython3",
   "version": "3.12.2"
  }
 },
 "nbformat": 4,
 "nbformat_minor": 2
}
